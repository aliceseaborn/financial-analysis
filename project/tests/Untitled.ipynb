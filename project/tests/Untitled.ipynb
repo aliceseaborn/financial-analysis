{
 "cells": [
  {
   "cell_type": "code",
   "execution_count": 1,
   "metadata": {},
   "outputs": [],
   "source": [
    "%reset -f\n",
    "\n",
    "# Handle parent directory\n",
    "import sys\n",
    "import os\n",
    "\n",
    "PACKAGE_PARENT = '..'\n",
    "SCRIPT_DIR = os.path.dirname(os.path.realpath(os.path.join(os.getcwd(), os.path.expanduser(os.path.abspath('')))))\n",
    "sys.path.append(os.path.normpath(os.path.join(SCRIPT_DIR, PACKAGE_PARENT)))\n",
    "# print(os.path.normpath(os.path.join(SCRIPT_DIR, PACKAGE_PARENT)))\n",
    "\n",
    "# Test subject\n",
    "from project.domain.Stock import Stock\n",
    "from project.domain.Portfolio import Portfolio\n",
    "\n",
    "# Pytest tools\n",
    "import pytest\n",
    "\n",
    "# Testing dependencies\n",
    "import pandas as pd\n",
    "import numpy as np\n",
    "\n",
    "import matplotlib.pyplot as plt\n",
    "\n",
    "from datetime import datetime as dt\n",
    "from dateutil.relativedelta import relativedelta\n",
    "\n",
    "###\n",
    "\n",
    "test_data_path = \"data/TS.csv\"\n"
   ]
  },
  {
   "cell_type": "code",
   "execution_count": 232,
   "metadata": {},
   "outputs": [],
   "source": [
    "\n",
    "# PROJECT I/O PARAMETERS\n",
    "test_stock_path = \"data/{}.csv\"\n",
    "\n",
    "# PORTFOLIO\n",
    "weights = np.array([ [0.40], [0.25], [0.15], [0.10], [0.10] ])\n",
    "tickers = [\"TS\", \"TSB\", \"TSC\", \"TSD\", \"TSE\"]\n",
    "companies = [\"TS\", \"TS Beta\", \"TS Charlie\", \"TS Delta\", \"TS Echo\"]\n",
    "entries = dict(zip(tickers, companies))\n",
    "\n",
    "stocks = list()\n",
    "for ticker, company in entries.items():\n",
    "    history = pd.read_csv(test_stock_path.format(ticker))\n",
    "    stocks.append(Stock(ticker, company, history))\n",
    "\n",
    "TestPortfolio = Portfolio(\"Test Portfolio\", stocks, weights)\n",
    "\n",
    "# INDEX\n",
    "Index = Stock(\"^INDX\", \"Generic Index\", pd.read_csv(test_stock_path.format(\"^INDX\")))\n",
    "\n",
    "# TIMING PARAMETERS\n",
    "start_date = \"1900-01-01\"\n",
    "end_date = \"1901-01-01\"\n",
    "\n",
    "# MARKET PARAMETERS\n",
    "risk_free_rate = 0.0165\n",
    "\n",
    "\n",
    "individual_stocks = TestPortfolio.daily_individual_rates_of_return(start_date, end_date)\n",
    "portfolio_combined = TestPortfolio.daily_combined_rate_of_return(start_date, end_date)\n",
    "excess_rates = TestPortfolio.daily_excess_rates_of_return(risk_free_rate, start_date, end_date)\n",
    "average_daily_return = TestPortfolio.average_daily_rate_of_return(start_date, end_date)\n",
    "average_annual_return = TestPortfolio.average_annual_rate_of_return(start_date, end_date)\n",
    "individual_variances = TestPortfolio.individual_variances(start_date, end_date)\n",
    "covariance_matrix = TestPortfolio.covariance_matrix(start_date, end_date)\n",
    "variance = TestPortfolio.variance(start_date, end_date)\n",
    "annual_std = TestPortfolio.annual_standard_deviation(start_date, end_date)\n",
    "annual_volatility = TestPortfolio.volatility(start_date, end_date)\n",
    "correlation_matrix = TestPortfolio.correlation_matrix(start_date, end_date)\n",
    "betas_matrix = TestPortfolio.individual_betas(Index, start_date, end_date)\n",
    "beta = TestPortfolio.beta(Index, start_date, end_date)\n",
    "systematic_risk = TestPortfolio.systematic_risk(Index, start_date, end_date)\n",
    "idiosyncratic_risk = TestPortfolio.idiosyncratic_risk(Index, start_date, end_date)\n",
    "sharp_ratio = TestPortfolio.sharpe_ratio(risk_free_rate, start_date, end_date)\n",
    "marko_data = TestPortfolio.markowitz_efficient_frontier(1000, risk_free_rate, \"figures/marko\", start_date, end_date)\n",
    "\n",
    "\n",
    "\n"
   ]
  },
  {
   "cell_type": "code",
   "execution_count": 253,
   "metadata": {},
   "outputs": [],
   "source": [
    "\n",
    "for i in range(len(marko_data)):\n",
    "    if round(sum(marko_data[i][\"Weights\"])[0], 3) == 1.000:\n",
    "        continue\n",
    "    else:\n",
    "        print(\"Oops!\")\n",
    "        break\n",
    "    \n",
    "\n"
   ]
  },
  {
   "cell_type": "code",
   "execution_count": 248,
   "metadata": {},
   "outputs": [
    {
     "data": {
      "text/plain": [
       "0.9999999999999998"
      ]
     },
     "execution_count": 248,
     "metadata": {},
     "output_type": "execute_result"
    }
   ],
   "source": []
  },
  {
   "cell_type": "code",
   "execution_count": null,
   "metadata": {},
   "outputs": [],
   "source": []
  },
  {
   "cell_type": "code",
   "execution_count": null,
   "metadata": {},
   "outputs": [],
   "source": []
  },
  {
   "cell_type": "code",
   "execution_count": null,
   "metadata": {},
   "outputs": [],
   "source": []
  },
  {
   "cell_type": "code",
   "execution_count": null,
   "metadata": {},
   "outputs": [],
   "source": []
  },
  {
   "cell_type": "code",
   "execution_count": null,
   "metadata": {},
   "outputs": [],
   "source": []
  },
  {
   "cell_type": "code",
   "execution_count": null,
   "metadata": {},
   "outputs": [],
   "source": []
  },
  {
   "cell_type": "code",
   "execution_count": null,
   "metadata": {},
   "outputs": [],
   "source": []
  },
  {
   "cell_type": "code",
   "execution_count": null,
   "metadata": {},
   "outputs": [],
   "source": []
  },
  {
   "cell_type": "code",
   "execution_count": null,
   "metadata": {},
   "outputs": [],
   "source": []
  },
  {
   "cell_type": "code",
   "execution_count": 13,
   "metadata": {},
   "outputs": [
    {
     "data": {
      "text/plain": [
       "<AxesSubplot:>"
      ]
     },
     "execution_count": 13,
     "metadata": {},
     "output_type": "execute_result"
    },
    {
     "data": {
      "image/png": "[encoded data removed]",
      "text/plain": [
       "<Figure size 432x288 with 1 Axes>"
      ]
     },
     "metadata": {
      "needs_background": "light"
     },
     "output_type": "display_data"
    }
   ],
   "source": [
    "stock.history.iloc[:,5].plot()"
   ]
  },
  {
   "cell_type": "code",
   "execution_count": 3,
   "metadata": {},
   "outputs": [
    {
     "data": {
      "text/html": [
       "<div>\n",
       "<style scoped>\n",
       "    .dataframe tbody tr th:only-of-type {\n",
       "        vertical-align: middle;\n",
       "    }\n",
       "\n",
       "    .dataframe tbody tr th {\n",
       "        vertical-align: top;\n",
       "    }\n",
       "\n",
       "    .dataframe thead th {\n",
       "        text-align: right;\n",
       "    }\n",
       "</style>\n",
       "<table border=\"1\" class=\"dataframe\">\n",
       "  <thead>\n",
       "    <tr style=\"text-align: right;\">\n",
       "      <th></th>\n",
       "      <th>Date</th>\n",
       "      <th>Open</th>\n",
       "      <th>High</th>\n",
       "      <th>Low</th>\n",
       "      <th>Close</th>\n",
       "      <th>Adj Close</th>\n",
       "      <th>Volume</th>\n",
       "    </tr>\n",
       "  </thead>\n",
       "  <tbody>\n",
       "    <tr>\n",
       "      <th>0</th>\n",
       "      <td>1900-01-02</td>\n",
       "      <td>1.00</td>\n",
       "      <td>1.01</td>\n",
       "      <td>0.97</td>\n",
       "      <td>1.00</td>\n",
       "      <td>1.00</td>\n",
       "      <td>767000</td>\n",
       "    </tr>\n",
       "    <tr>\n",
       "      <th>1</th>\n",
       "      <td>1900-01-03</td>\n",
       "      <td>1.00</td>\n",
       "      <td>1.07</td>\n",
       "      <td>1.04</td>\n",
       "      <td>1.06</td>\n",
       "      <td>1.06</td>\n",
       "      <td>2207000</td>\n",
       "    </tr>\n",
       "    <tr>\n",
       "      <th>2</th>\n",
       "      <td>1900-01-04</td>\n",
       "      <td>1.06</td>\n",
       "      <td>1.06</td>\n",
       "      <td>1.00</td>\n",
       "      <td>1.03</td>\n",
       "      <td>1.03</td>\n",
       "      <td>892000</td>\n",
       "    </tr>\n",
       "    <tr>\n",
       "      <th>3</th>\n",
       "      <td>1900-01-05</td>\n",
       "      <td>1.03</td>\n",
       "      <td>1.09</td>\n",
       "      <td>1.06</td>\n",
       "      <td>1.07</td>\n",
       "      <td>1.07</td>\n",
       "      <td>729000</td>\n",
       "    </tr>\n",
       "    <tr>\n",
       "      <th>4</th>\n",
       "      <td>1900-01-08</td>\n",
       "      <td>1.07</td>\n",
       "      <td>1.11</td>\n",
       "      <td>1.10</td>\n",
       "      <td>1.10</td>\n",
       "      <td>1.10</td>\n",
       "      <td>1216000</td>\n",
       "    </tr>\n",
       "    <tr>\n",
       "      <th>...</th>\n",
       "      <td>...</td>\n",
       "      <td>...</td>\n",
       "      <td>...</td>\n",
       "      <td>...</td>\n",
       "      <td>...</td>\n",
       "      <td>...</td>\n",
       "      <td>...</td>\n",
       "    </tr>\n",
       "    <tr>\n",
       "      <th>738</th>\n",
       "      <td>1902-12-22</td>\n",
       "      <td>0.38</td>\n",
       "      <td>0.39</td>\n",
       "      <td>0.35</td>\n",
       "      <td>0.38</td>\n",
       "      <td>0.38</td>\n",
       "      <td>991000</td>\n",
       "    </tr>\n",
       "    <tr>\n",
       "      <th>739</th>\n",
       "      <td>1902-12-23</td>\n",
       "      <td>0.38</td>\n",
       "      <td>0.42</td>\n",
       "      <td>0.38</td>\n",
       "      <td>0.39</td>\n",
       "      <td>0.39</td>\n",
       "      <td>1289000</td>\n",
       "    </tr>\n",
       "    <tr>\n",
       "      <th>740</th>\n",
       "      <td>1902-12-29</td>\n",
       "      <td>0.39</td>\n",
       "      <td>0.42</td>\n",
       "      <td>0.41</td>\n",
       "      <td>0.41</td>\n",
       "      <td>0.41</td>\n",
       "      <td>2545000</td>\n",
       "    </tr>\n",
       "    <tr>\n",
       "      <th>741</th>\n",
       "      <td>1902-12-30</td>\n",
       "      <td>0.41</td>\n",
       "      <td>0.41</td>\n",
       "      <td>0.39</td>\n",
       "      <td>0.39</td>\n",
       "      <td>0.39</td>\n",
       "      <td>2155000</td>\n",
       "    </tr>\n",
       "    <tr>\n",
       "      <th>742</th>\n",
       "      <td>1902-12-31</td>\n",
       "      <td>0.39</td>\n",
       "      <td>0.39</td>\n",
       "      <td>0.34</td>\n",
       "      <td>0.37</td>\n",
       "      <td>0.37</td>\n",
       "      <td>1249000</td>\n",
       "    </tr>\n",
       "  </tbody>\n",
       "</table>\n",
       "<p>743 rows × 7 columns</p>\n",
       "</div>"
      ],
      "text/plain": [
       "           Date  Open  High   Low  Close  Adj Close   Volume\n",
       "0    1900-01-02  1.00  1.01  0.97   1.00       1.00   767000\n",
       "1    1900-01-03  1.00  1.07  1.04   1.06       1.06  2207000\n",
       "2    1900-01-04  1.06  1.06  1.00   1.03       1.03   892000\n",
       "3    1900-01-05  1.03  1.09  1.06   1.07       1.07   729000\n",
       "4    1900-01-08  1.07  1.11  1.10   1.10       1.10  1216000\n",
       "..          ...   ...   ...   ...    ...        ...      ...\n",
       "738  1902-12-22  0.38  0.39  0.35   0.38       0.38   991000\n",
       "739  1902-12-23  0.38  0.42  0.38   0.39       0.39  1289000\n",
       "740  1902-12-29  0.39  0.42  0.41   0.41       0.41  2545000\n",
       "741  1902-12-30  0.41  0.41  0.39   0.39       0.39  2155000\n",
       "742  1902-12-31  0.39  0.39  0.34   0.37       0.37  1249000\n",
       "\n",
       "[743 rows x 7 columns]"
      ]
     },
     "execution_count": 3,
     "metadata": {},
     "output_type": "execute_result"
    }
   ],
   "source": [
    "stock.history"
   ]
  },
  {
   "cell_type": "code",
   "execution_count": null,
   "metadata": {},
   "outputs": [],
   "source": []
  },
  {
   "cell_type": "code",
   "execution_count": null,
   "metadata": {},
   "outputs": [],
   "source": []
  },
  {
   "cell_type": "code",
   "execution_count": null,
   "metadata": {},
   "outputs": [],
   "source": []
  },
  {
   "cell_type": "code",
   "execution_count": null,
   "metadata": {},
   "outputs": [],
   "source": []
  },
  {
   "cell_type": "code",
   "execution_count": null,
   "metadata": {},
   "outputs": [],
   "source": []
  },
  {
   "cell_type": "code",
   "execution_count": null,
   "metadata": {},
   "outputs": [],
   "source": []
  }
 ],
 "metadata": {
  "kernelspec": {
   "display_name": "Python 3",
   "language": "python",
   "name": "python3"
  },
  "language_info": {
   "codemirror_mode": {
    "name": "ipython",
    "version": 3
   },
   "file_extension": ".py",
   "mimetype": "text/x-python",
   "name": "python",
   "nbconvert_exporter": "python",
   "pygments_lexer": "ipython3",
   "version": "3.8.8"
  }
 },
 "nbformat": 4,
 "nbformat_minor": 4
}
